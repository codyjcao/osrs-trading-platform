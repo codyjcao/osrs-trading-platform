{
 "cells": [
  {
   "cell_type": "code",
   "execution_count": 1,
   "id": "d548ef6d",
   "metadata": {},
   "outputs": [],
   "source": [
    "import src.fetch_data as fd\n",
    "import src.data_processing as dp\n",
    "\n",
    "import numpy as np\n",
    "import pandas as pd"
   ]
  },
  {
   "cell_type": "code",
   "execution_count": 2,
   "id": "8e3fc183",
   "metadata": {},
   "outputs": [
    {
     "name": "stdout",
     "output_type": "stream",
     "text": [
      "data/raw/price_file_6h.csv has been updated\n"
     ]
    },
    {
     "name": "stderr",
     "output_type": "stream",
     "text": [
      "/Users/codycao/Documents/Data projects/osrs-trading-platform/src/data_processing.py:10: FutureWarning: Series.fillna with 'method' is deprecated and will raise in a future version. Use obj.ffill() or obj.bfill() instead.\n",
      "  df[\"avgHighPrice\"] = df[\"avgHighPrice\"].fillna(method=\"ffill\")\n",
      "/Users/codycao/Documents/Data projects/osrs-trading-platform/src/data_processing.py:11: FutureWarning: Series.fillna with 'method' is deprecated and will raise in a future version. Use obj.ffill() or obj.bfill() instead.\n",
      "  df[\"avgLowPrice\"] = df[\"avgLowPrice\"].fillna(method=\"ffill\")\n"
     ]
    },
    {
     "data": {
      "text/html": [
       "<div>\n",
       "<style scoped>\n",
       "    .dataframe tbody tr th:only-of-type {\n",
       "        vertical-align: middle;\n",
       "    }\n",
       "\n",
       "    .dataframe tbody tr th {\n",
       "        vertical-align: top;\n",
       "    }\n",
       "\n",
       "    .dataframe thead th {\n",
       "        text-align: right;\n",
       "    }\n",
       "</style>\n",
       "<table border=\"1\" class=\"dataframe\">\n",
       "  <thead>\n",
       "    <tr style=\"text-align: right;\">\n",
       "      <th></th>\n",
       "      <th>timestamp</th>\n",
       "      <th>avgHighPrice</th>\n",
       "      <th>avgLowPrice</th>\n",
       "      <th>highPriceVolume</th>\n",
       "      <th>lowPriceVolume</th>\n",
       "      <th>id</th>\n",
       "      <th>VWAP</th>\n",
       "      <th>return_1df</th>\n",
       "      <th>return_1wf</th>\n",
       "    </tr>\n",
       "  </thead>\n",
       "  <tbody>\n",
       "    <tr>\n",
       "      <th>0</th>\n",
       "      <td>2024-12-09 00:00:00</td>\n",
       "      <td>179.0</td>\n",
       "      <td>175.0</td>\n",
       "      <td>3796936</td>\n",
       "      <td>1350962</td>\n",
       "      <td>2</td>\n",
       "      <td>177.950281</td>\n",
       "      <td>-0.011310</td>\n",
       "      <td>0.032889</td>\n",
       "    </tr>\n",
       "    <tr>\n",
       "      <th>1</th>\n",
       "      <td>2024-12-09 06:00:00</td>\n",
       "      <td>178.0</td>\n",
       "      <td>173.0</td>\n",
       "      <td>2749820</td>\n",
       "      <td>891517</td>\n",
       "      <td>2</td>\n",
       "      <td>176.775838</td>\n",
       "      <td>-0.008698</td>\n",
       "      <td>0.045430</td>\n",
       "    </tr>\n",
       "    <tr>\n",
       "      <th>2</th>\n",
       "      <td>2024-12-09 12:00:00</td>\n",
       "      <td>177.0</td>\n",
       "      <td>172.0</td>\n",
       "      <td>3597148</td>\n",
       "      <td>1653783</td>\n",
       "      <td>2</td>\n",
       "      <td>175.425248</td>\n",
       "      <td>0.003316</td>\n",
       "      <td>0.059773</td>\n",
       "    </tr>\n",
       "    <tr>\n",
       "      <th>3</th>\n",
       "      <td>2024-12-09 18:00:00</td>\n",
       "      <td>176.0</td>\n",
       "      <td>172.0</td>\n",
       "      <td>4997735</td>\n",
       "      <td>1949262</td>\n",
       "      <td>2</td>\n",
       "      <td>174.877638</td>\n",
       "      <td>0.010185</td>\n",
       "      <td>0.061580</td>\n",
       "    </tr>\n",
       "    <tr>\n",
       "      <th>4</th>\n",
       "      <td>2024-12-10 00:00:00</td>\n",
       "      <td>177.0</td>\n",
       "      <td>173.0</td>\n",
       "      <td>4611766</td>\n",
       "      <td>1667556</td>\n",
       "      <td>2</td>\n",
       "      <td>175.937748</td>\n",
       "      <td>-0.005697</td>\n",
       "      <td>0.038877</td>\n",
       "    </tr>\n",
       "  </tbody>\n",
       "</table>\n",
       "</div>"
      ],
      "text/plain": [
       "            timestamp  avgHighPrice  avgLowPrice  highPriceVolume  \\\n",
       "0 2024-12-09 00:00:00         179.0        175.0          3796936   \n",
       "1 2024-12-09 06:00:00         178.0        173.0          2749820   \n",
       "2 2024-12-09 12:00:00         177.0        172.0          3597148   \n",
       "3 2024-12-09 18:00:00         176.0        172.0          4997735   \n",
       "4 2024-12-10 00:00:00         177.0        173.0          4611766   \n",
       "\n",
       "   lowPriceVolume  id        VWAP  return_1df  return_1wf  \n",
       "0         1350962   2  177.950281   -0.011310    0.032889  \n",
       "1          891517   2  176.775838   -0.008698    0.045430  \n",
       "2         1653783   2  175.425248    0.003316    0.059773  \n",
       "3         1949262   2  174.877638    0.010185    0.061580  \n",
       "4         1667556   2  175.937748   -0.005697    0.038877  "
      ]
     },
     "execution_count": 2,
     "metadata": {},
     "output_type": "execute_result"
    }
   ],
   "source": [
    "fd.update_price_file_csv('6h')\n",
    "\n",
    "df_raw = fd.load_raw_price_file('6h')\n",
    "\n",
    "df = dp.process(df_raw)\n",
    "\n",
    "df.head()"
   ]
  },
  {
   "cell_type": "code",
   "execution_count": 3,
   "id": "f79de0fb",
   "metadata": {},
   "outputs": [
    {
     "data": {
      "text/plain": [
       "(10180, 9)"
      ]
     },
     "execution_count": 3,
     "metadata": {},
     "output_type": "execute_result"
    }
   ],
   "source": [
    "df.shape"
   ]
  },
  {
   "cell_type": "code",
   "execution_count": 4,
   "id": "676810c4",
   "metadata": {},
   "outputs": [
    {
     "data": {
      "text/plain": [
       "(10180, 6)"
      ]
     },
     "execution_count": 4,
     "metadata": {},
     "output_type": "execute_result"
    }
   ],
   "source": [
    "df_raw.shape"
   ]
  }
 ],
 "metadata": {
  "kernelspec": {
   "display_name": "Python 3 (ipykernel)",
   "language": "python",
   "name": "python3"
  },
  "language_info": {
   "codemirror_mode": {
    "name": "ipython",
    "version": 3
   },
   "file_extension": ".py",
   "mimetype": "text/x-python",
   "name": "python",
   "nbconvert_exporter": "python",
   "pygments_lexer": "ipython3",
   "version": "3.11.7"
  }
 },
 "nbformat": 4,
 "nbformat_minor": 5
}
