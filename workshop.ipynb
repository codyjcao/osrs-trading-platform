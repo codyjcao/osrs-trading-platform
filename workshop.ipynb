{
 "cells": [
  {
   "cell_type": "code",
   "execution_count": 1,
   "id": "5163e85c-2e3d-4d4b-a969-55e5455bbb86",
   "metadata": {},
   "outputs": [],
   "source": [
    "import requests\n",
    "import json\n",
    "\n",
    "import os\n",
    "import re\n",
    "\n",
    "import matplotlib.pyplot as plt\n",
    "import pandas as pd\n",
    "import numpy as np\n",
    "from datetime import datetime\n",
    "\n",
    "from osrsbox import items_api\n",
    "\n",
    "from pathlib import Path\n",
    "from typing import Optional\n",
    "\n",
    "import osrs_GE_data"
   ]
  },
  {
   "cell_type": "markdown",
   "id": "1217dd19-c0d7-4485-874e-17b5f5a7a6a9",
   "metadata": {},
   "source": [
    "https://github.com/osrsbox/osrsbox-db?tab=readme-ov-file#item-properties"
   ]
  },
  {
   "cell_type": "markdown",
   "id": "861317a3-4211-474c-87b7-2b9bd0fb1546",
   "metadata": {},
   "source": [
    "- id\n",
    "- name\n",
    "- last_updated\n",
    "- cost"
   ]
  },
  {
   "cell_type": "code",
   "execution_count": 3,
   "id": "c9d85c66",
   "metadata": {},
   "outputs": [
    {
     "data": {
      "text/html": [
       "<div>\n",
       "<style scoped>\n",
       "    .dataframe tbody tr th:only-of-type {\n",
       "        vertical-align: middle;\n",
       "    }\n",
       "\n",
       "    .dataframe tbody tr th {\n",
       "        vertical-align: top;\n",
       "    }\n",
       "\n",
       "    .dataframe thead th {\n",
       "        text-align: right;\n",
       "    }\n",
       "</style>\n",
       "<table border=\"1\" class=\"dataframe\">\n",
       "  <thead>\n",
       "    <tr style=\"text-align: right;\">\n",
       "      <th></th>\n",
       "      <th>timestamp</th>\n",
       "      <th>avgHighPrice</th>\n",
       "      <th>avgLowPrice</th>\n",
       "      <th>highPriceVolume</th>\n",
       "      <th>lowPriceVolume</th>\n",
       "      <th>id</th>\n",
       "    </tr>\n",
       "  </thead>\n",
       "  <tbody>\n",
       "    <tr>\n",
       "      <th>0</th>\n",
       "      <td>1733637600</td>\n",
       "      <td>131718</td>\n",
       "      <td>130812</td>\n",
       "      <td>48</td>\n",
       "      <td>15</td>\n",
       "      <td>13024</td>\n",
       "    </tr>\n",
       "    <tr>\n",
       "      <th>1</th>\n",
       "      <td>1733659200</td>\n",
       "      <td>131830</td>\n",
       "      <td>130176</td>\n",
       "      <td>75</td>\n",
       "      <td>19</td>\n",
       "      <td>13024</td>\n",
       "    </tr>\n",
       "    <tr>\n",
       "      <th>2</th>\n",
       "      <td>1733680800</td>\n",
       "      <td>131761</td>\n",
       "      <td>128375</td>\n",
       "      <td>139</td>\n",
       "      <td>49</td>\n",
       "      <td>13024</td>\n",
       "    </tr>\n",
       "    <tr>\n",
       "      <th>3</th>\n",
       "      <td>1733702400</td>\n",
       "      <td>131733</td>\n",
       "      <td>128711</td>\n",
       "      <td>175</td>\n",
       "      <td>35</td>\n",
       "      <td>13024</td>\n",
       "    </tr>\n",
       "    <tr>\n",
       "      <th>4</th>\n",
       "      <td>1733724000</td>\n",
       "      <td>131552</td>\n",
       "      <td>128840</td>\n",
       "      <td>51</td>\n",
       "      <td>35</td>\n",
       "      <td>13024</td>\n",
       "    </tr>\n",
       "    <tr>\n",
       "      <th>...</th>\n",
       "      <td>...</td>\n",
       "      <td>...</td>\n",
       "      <td>...</td>\n",
       "      <td>...</td>\n",
       "      <td>...</td>\n",
       "      <td>...</td>\n",
       "    </tr>\n",
       "    <tr>\n",
       "      <th>360</th>\n",
       "      <td>1741435200</td>\n",
       "      <td>132800</td>\n",
       "      <td>129283</td>\n",
       "      <td>90</td>\n",
       "      <td>30</td>\n",
       "      <td>13024</td>\n",
       "    </tr>\n",
       "    <tr>\n",
       "      <th>361</th>\n",
       "      <td>1741456800</td>\n",
       "      <td>131881</td>\n",
       "      <td>127394</td>\n",
       "      <td>182</td>\n",
       "      <td>81</td>\n",
       "      <td>13024</td>\n",
       "    </tr>\n",
       "    <tr>\n",
       "      <th>362</th>\n",
       "      <td>1741478400</td>\n",
       "      <td>132490</td>\n",
       "      <td>127024</td>\n",
       "      <td>127</td>\n",
       "      <td>42</td>\n",
       "      <td>13024</td>\n",
       "    </tr>\n",
       "    <tr>\n",
       "      <th>363</th>\n",
       "      <td>1741500000</td>\n",
       "      <td>131380</td>\n",
       "      <td>127655</td>\n",
       "      <td>91</td>\n",
       "      <td>42</td>\n",
       "      <td>13024</td>\n",
       "    </tr>\n",
       "    <tr>\n",
       "      <th>364</th>\n",
       "      <td>1741521600</td>\n",
       "      <td>131311</td>\n",
       "      <td>126941</td>\n",
       "      <td>92</td>\n",
       "      <td>107</td>\n",
       "      <td>13024</td>\n",
       "    </tr>\n",
       "  </tbody>\n",
       "</table>\n",
       "<p>365 rows × 6 columns</p>\n",
       "</div>"
      ],
      "text/plain": [
       "      timestamp  avgHighPrice  avgLowPrice  highPriceVolume  lowPriceVolume  \\\n",
       "0    1733637600        131718       130812               48              15   \n",
       "1    1733659200        131830       130176               75              19   \n",
       "2    1733680800        131761       128375              139              49   \n",
       "3    1733702400        131733       128711              175              35   \n",
       "4    1733724000        131552       128840               51              35   \n",
       "..          ...           ...          ...              ...             ...   \n",
       "360  1741435200        132800       129283               90              30   \n",
       "361  1741456800        131881       127394              182              81   \n",
       "362  1741478400        132490       127024              127              42   \n",
       "363  1741500000        131380       127655               91              42   \n",
       "364  1741521600        131311       126941               92             107   \n",
       "\n",
       "        id  \n",
       "0    13024  \n",
       "1    13024  \n",
       "2    13024  \n",
       "3    13024  \n",
       "4    13024  \n",
       "..     ...  \n",
       "360  13024  \n",
       "361  13024  \n",
       "362  13024  \n",
       "363  13024  \n",
       "364  13024  \n",
       "\n",
       "[365 rows x 6 columns]"
      ]
     },
     "execution_count": 3,
     "metadata": {},
     "output_type": "execute_result"
    }
   ],
   "source": [
    "df = osrs_GE_data.create_price_df(13024)\n",
    "df"
   ]
  },
  {
   "cell_type": "code",
   "execution_count": 2,
   "id": "3039d9d5",
   "metadata": {},
   "outputs": [
    {
     "name": "stdout",
     "output_type": "stream",
     "text": [
      "New master file saved to test_files/test.csv\n"
     ]
    }
   ],
   "source": [
    "test_path = 'test_files/test.csv'\n",
    "osrs_GE_data.create_new_master('6h',test_path)"
   ]
  },
  {
   "cell_type": "code",
   "execution_count": 7,
   "id": "e8068726",
   "metadata": {},
   "outputs": [
    {
     "name": "stdout",
     "output_type": "stream",
     "text": [
      "test_files/test.csv\n"
     ]
    }
   ],
   "source": [
    "print(Path(test_path))"
   ]
  }
 ],
 "metadata": {
  "kernelspec": {
   "display_name": "Python 3 (ipykernel)",
   "language": "python",
   "name": "python3"
  },
  "language_info": {
   "codemirror_mode": {
    "name": "ipython",
    "version": 3
   },
   "file_extension": ".py",
   "mimetype": "text/x-python",
   "name": "python",
   "nbconvert_exporter": "python",
   "pygments_lexer": "ipython3",
   "version": "3.11.7"
  }
 },
 "nbformat": 4,
 "nbformat_minor": 5
}
